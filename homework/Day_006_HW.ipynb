{
 "cells": [
  {
   "cell_type": "markdown",
   "metadata": {},
   "source": [
    "# [作業目標]\n",
    "- 仿造範例的 One Hot Encoding, 將指定的資料進行編碼"
   ]
  },
  {
   "cell_type": "markdown",
   "metadata": {},
   "source": [
    "# [作業重點]\n",
    "- 將 sub_train 進行 One Hot Encoding 編碼 (In[4], Out[4])"
   ]
  },
  {
   "cell_type": "code",
   "execution_count": 143,
   "metadata": {
    "colab": {},
    "colab_type": "code",
    "id": "lh9gyloHVblR"
   },
   "outputs": [],
   "source": [
    "import os\n",
    "import numpy as np\n",
    "import pandas as pd\n",
    "from sklearn.preprocessing import LabelEncoder"
   ]
  },
  {
   "cell_type": "code",
   "execution_count": 144,
   "metadata": {
    "colab": {},
    "colab_type": "code",
    "id": "z4iLB9cKVblV"
   },
   "outputs": [],
   "source": [
    "# 設定 data_path, 並讀取 app_train\n",
    "dir_data = \"D:\\\\jupyter_notebook\\\\ML100Days\\\\data\"\n",
    "f_app_train = os.path.join(dir_data, 'application_train.csv')\n",
    "app_train = pd.read_csv(f_app_train)"
   ]
  },
  {
   "cell_type": "markdown",
   "metadata": {
    "colab": {},
    "colab_type": "code",
    "collapsed": true,
    "id": "d5IeEcPVVblq"
   },
   "source": [
    "## 作業\n",
    "將下列部分資料片段 sub_train 使用 One Hot encoding, 並觀察轉換前後的欄位數量 (使用 shape) 與欄位名稱 (使用 head) 變化"
   ]
  },
  {
   "cell_type": "code",
   "execution_count": 145,
   "metadata": {},
   "outputs": [
    {
     "name": "stdout",
     "output_type": "stream",
     "text": [
      "(307511, 1)\n"
     ]
    },
    {
     "data": {
      "text/html": [
       "<div>\n",
       "<style scoped>\n",
       "    .dataframe tbody tr th:only-of-type {\n",
       "        vertical-align: middle;\n",
       "    }\n",
       "\n",
       "    .dataframe tbody tr th {\n",
       "        vertical-align: top;\n",
       "    }\n",
       "\n",
       "    .dataframe thead th {\n",
       "        text-align: right;\n",
       "    }\n",
       "</style>\n",
       "<table border=\"1\" class=\"dataframe\">\n",
       "  <thead>\n",
       "    <tr style=\"text-align: right;\">\n",
       "      <th></th>\n",
       "      <th>WEEKDAY_APPR_PROCESS_START</th>\n",
       "    </tr>\n",
       "  </thead>\n",
       "  <tbody>\n",
       "    <tr>\n",
       "      <th>0</th>\n",
       "      <td>WEDNESDAY</td>\n",
       "    </tr>\n",
       "    <tr>\n",
       "      <th>1</th>\n",
       "      <td>MONDAY</td>\n",
       "    </tr>\n",
       "    <tr>\n",
       "      <th>2</th>\n",
       "      <td>MONDAY</td>\n",
       "    </tr>\n",
       "    <tr>\n",
       "      <th>3</th>\n",
       "      <td>WEDNESDAY</td>\n",
       "    </tr>\n",
       "    <tr>\n",
       "      <th>4</th>\n",
       "      <td>THURSDAY</td>\n",
       "    </tr>\n",
       "  </tbody>\n",
       "</table>\n",
       "</div>"
      ],
      "text/plain": [
       "  WEEKDAY_APPR_PROCESS_START\n",
       "0                  WEDNESDAY\n",
       "1                     MONDAY\n",
       "2                     MONDAY\n",
       "3                  WEDNESDAY\n",
       "4                   THURSDAY"
      ]
     },
     "execution_count": 145,
     "metadata": {},
     "output_type": "execute_result"
    }
   ],
   "source": [
    "sub_train = pd.DataFrame(app_train['WEEKDAY_APPR_PROCESS_START'])\n",
    "# sub_train2 = pd.DataFrame(app_train['WEEKDAY_APPR_PROCESS_START'])\n",
    "print(sub_train.shape)\n",
    "sub_train.head()"
   ]
  },
  {
   "cell_type": "code",
   "execution_count": 146,
   "metadata": {},
   "outputs": [
    {
     "name": "stdout",
     "output_type": "stream",
     "text": [
      "        WEEKDAY_APPR_PROCESS_START_FRIDAY  WEEKDAY_APPR_PROCESS_START_MONDAY  \\\n",
      "0                                       0                                  0   \n",
      "1                                       0                                  1   \n",
      "2                                       0                                  1   \n",
      "3                                       0                                  0   \n",
      "4                                       0                                  0   \n",
      "...                                   ...                                ...   \n",
      "307506                                  0                                  0   \n",
      "307507                                  0                                  1   \n",
      "307508                                  0                                  0   \n",
      "307509                                  0                                  0   \n",
      "307510                                  0                                  0   \n",
      "\n",
      "        WEEKDAY_APPR_PROCESS_START_SATURDAY  \\\n",
      "0                                         0   \n",
      "1                                         0   \n",
      "2                                         0   \n",
      "3                                         0   \n",
      "4                                         0   \n",
      "...                                     ...   \n",
      "307506                                    0   \n",
      "307507                                    0   \n",
      "307508                                    0   \n",
      "307509                                    0   \n",
      "307510                                    0   \n",
      "\n",
      "        WEEKDAY_APPR_PROCESS_START_SUNDAY  \\\n",
      "0                                       0   \n",
      "1                                       0   \n",
      "2                                       0   \n",
      "3                                       0   \n",
      "4                                       0   \n",
      "...                                   ...   \n",
      "307506                                  0   \n",
      "307507                                  0   \n",
      "307508                                  0   \n",
      "307509                                  0   \n",
      "307510                                  0   \n",
      "\n",
      "        WEEKDAY_APPR_PROCESS_START_THURSDAY  \\\n",
      "0                                         0   \n",
      "1                                         0   \n",
      "2                                         0   \n",
      "3                                         0   \n",
      "4                                         1   \n",
      "...                                     ...   \n",
      "307506                                    1   \n",
      "307507                                    0   \n",
      "307508                                    1   \n",
      "307509                                    0   \n",
      "307510                                    1   \n",
      "\n",
      "        WEEKDAY_APPR_PROCESS_START_TUESDAY  \\\n",
      "0                                        0   \n",
      "1                                        0   \n",
      "2                                        0   \n",
      "3                                        0   \n",
      "4                                        0   \n",
      "...                                    ...   \n",
      "307506                                   0   \n",
      "307507                                   0   \n",
      "307508                                   0   \n",
      "307509                                   0   \n",
      "307510                                   0   \n",
      "\n",
      "        WEEKDAY_APPR_PROCESS_START_WEDNESDAY  \n",
      "0                                          1  \n",
      "1                                          0  \n",
      "2                                          0  \n",
      "3                                          1  \n",
      "4                                          0  \n",
      "...                                      ...  \n",
      "307506                                     0  \n",
      "307507                                     0  \n",
      "307508                                     0  \n",
      "307509                                     1  \n",
      "307510                                     0  \n",
      "\n",
      "[307511 rows x 7 columns]\n"
     ]
    }
   ],
   "source": [
    "#one-hot by pd\n",
    "sub_train = pd.get_dummies(sub_train)\n",
    "print(sub_train)"
   ]
  },
  {
   "cell_type": "code",
   "execution_count": 147,
   "metadata": {},
   "outputs": [
    {
     "name": "stdout",
     "output_type": "stream",
     "text": [
      "0         Unaccompanied\n",
      "1                Family\n",
      "2         Unaccompanied\n",
      "3         Unaccompanied\n",
      "4         Unaccompanied\n",
      "              ...      \n",
      "307506    Unaccompanied\n",
      "307507    Unaccompanied\n",
      "307508    Unaccompanied\n",
      "307509    Unaccompanied\n",
      "307510    Unaccompanied\n",
      "Name: NAME_TYPE_SUITE, Length: 307511, dtype: object\n",
      "0            Laborers\n",
      "1          Core staff\n",
      "2            Laborers\n",
      "3            Laborers\n",
      "4          Core staff\n",
      "             ...     \n",
      "307506    Sales staff\n",
      "307507            NaN\n",
      "307508       Managers\n",
      "307509       Laborers\n",
      "307510       Laborers\n",
      "Name: OCCUPATION_TYPE, Length: 307511, dtype: object\n",
      "0         reg oper account\n",
      "1         reg oper account\n",
      "2                      NaN\n",
      "3                      NaN\n",
      "4                      NaN\n",
      "                ...       \n",
      "307506    reg oper account\n",
      "307507    reg oper account\n",
      "307508    reg oper account\n",
      "307509                 NaN\n",
      "307510                 NaN\n",
      "Name: FONDKAPREMONT_MODE, Length: 307511, dtype: object\n",
      "0         block of flats\n",
      "1         block of flats\n",
      "2                    NaN\n",
      "3                    NaN\n",
      "4                    NaN\n",
      "               ...      \n",
      "307506    block of flats\n",
      "307507    block of flats\n",
      "307508    block of flats\n",
      "307509    block of flats\n",
      "307510    block of flats\n",
      "Name: HOUSETYPE_MODE, Length: 307511, dtype: object\n",
      "0         Stone, brick\n",
      "1                Block\n",
      "2                  NaN\n",
      "3                  NaN\n",
      "4                  NaN\n",
      "              ...     \n",
      "307506    Stone, brick\n",
      "307507    Stone, brick\n",
      "307508           Panel\n",
      "307509    Stone, brick\n",
      "307510           Panel\n",
      "Name: WALLSMATERIAL_MODE, Length: 307511, dtype: object\n",
      "0          No\n",
      "1          No\n",
      "2         NaN\n",
      "3         NaN\n",
      "4         NaN\n",
      "         ... \n",
      "307506     No\n",
      "307507     No\n",
      "307508     No\n",
      "307509     No\n",
      "307510     No\n",
      "Name: EMERGENCYSTATE_MODE, Length: 307511, dtype: object\n",
      "   SK_ID_CURR  TARGET  NAME_CONTRACT_TYPE  CODE_GENDER  FLAG_OWN_CAR  \\\n",
      "0      100002       1                   0            1             0   \n",
      "1      100003       0                   0            0             0   \n",
      "2      100004       0                   1            1             1   \n",
      "3      100006       0                   0            0             0   \n",
      "4      100007       0                   0            1             0   \n",
      "\n",
      "   FLAG_OWN_REALTY  CNT_CHILDREN  AMT_INCOME_TOTAL  AMT_CREDIT  AMT_ANNUITY  \\\n",
      "0                1             0          202500.0    406597.5      24700.5   \n",
      "1                0             0          270000.0   1293502.5      35698.5   \n",
      "2                1             0           67500.0    135000.0       6750.0   \n",
      "3                1             0          135000.0    312682.5      29686.5   \n",
      "4                1             0          121500.0    513000.0      21865.5   \n",
      "\n",
      "   ...  FLAG_DOCUMENT_18 FLAG_DOCUMENT_19  FLAG_DOCUMENT_20  FLAG_DOCUMENT_21  \\\n",
      "0  ...                 0                0                 0                 0   \n",
      "1  ...                 0                0                 0                 0   \n",
      "2  ...                 0                0                 0                 0   \n",
      "3  ...                 0                0                 0                 0   \n",
      "4  ...                 0                0                 0                 0   \n",
      "\n",
      "   AMT_REQ_CREDIT_BUREAU_HOUR  AMT_REQ_CREDIT_BUREAU_DAY  \\\n",
      "0                         0.0                        0.0   \n",
      "1                         0.0                        0.0   \n",
      "2                         0.0                        0.0   \n",
      "3                         NaN                        NaN   \n",
      "4                         0.0                        0.0   \n",
      "\n",
      "   AMT_REQ_CREDIT_BUREAU_WEEK  AMT_REQ_CREDIT_BUREAU_MON  \\\n",
      "0                         0.0                        0.0   \n",
      "1                         0.0                        0.0   \n",
      "2                         0.0                        0.0   \n",
      "3                         NaN                        NaN   \n",
      "4                         0.0                        0.0   \n",
      "\n",
      "   AMT_REQ_CREDIT_BUREAU_QRT  AMT_REQ_CREDIT_BUREAU_YEAR  \n",
      "0                        0.0                         1.0  \n",
      "1                        0.0                         0.0  \n",
      "2                        0.0                         0.0  \n",
      "3                        NaN                         NaN  \n",
      "4                        0.0                         0.0  \n",
      "\n",
      "[5 rows x 122 columns]\n"
     ]
    }
   ],
   "source": [
    "#label Encoding\n",
    "sub_train2 = app_train\n",
    "le = LabelEncoder()\n",
    "for col in sub_train2:\n",
    "    if sub_train2[col].dtype == 'object':\n",
    "        try:\n",
    "            le.fit(sub_train2[col])\n",
    "            sub_train2[col] = le.transform(sub_train2[col])\n",
    "        except:\n",
    "            print(sub_train2[col])\n",
    "print(sub_train2.head())"
   ]
  },
  {
   "cell_type": "code",
   "execution_count": 151,
   "metadata": {},
   "outputs": [
    {
     "name": "stdout",
     "output_type": "stream",
     "text": [
      "Exception: Input contains NaN, infinity or a value too large for dtype('float64').\n"
     ]
    }
   ],
   "source": [
    "#One-Hot Encoding by skilearn\n",
    "from sklearn.preprocessing import OneHotEncoder\n",
    "ohe = OneHotEncoder()\n",
    "try:\n",
    "    sub_train2 = ohe.fit_transform(sub_train2).toarray()\n",
    "except Exception as e:\n",
    "    print(\"Exception: \"+str(e))"
   ]
  },
  {
   "cell_type": "code",
   "execution_count": null,
   "metadata": {},
   "outputs": [],
   "source": []
  },
  {
   "cell_type": "code",
   "execution_count": null,
   "metadata": {},
   "outputs": [],
   "source": []
  },
  {
   "cell_type": "code",
   "execution_count": null,
   "metadata": {},
   "outputs": [],
   "source": []
  },
  {
   "cell_type": "code",
   "execution_count": null,
   "metadata": {},
   "outputs": [],
   "source": []
  },
  {
   "cell_type": "code",
   "execution_count": null,
   "metadata": {},
   "outputs": [],
   "source": []
  },
  {
   "cell_type": "code",
   "execution_count": null,
   "metadata": {},
   "outputs": [],
   "source": []
  },
  {
   "cell_type": "code",
   "execution_count": null,
   "metadata": {},
   "outputs": [],
   "source": []
  },
  {
   "cell_type": "code",
   "execution_count": null,
   "metadata": {},
   "outputs": [],
   "source": []
  },
  {
   "cell_type": "code",
   "execution_count": null,
   "metadata": {},
   "outputs": [],
   "source": []
  }
 ],
 "metadata": {
  "colab": {
   "name": "Day_004_column_data_type.ipynb",
   "provenance": [],
   "version": "0.3.2"
  },
  "kernelspec": {
   "display_name": "Python 3",
   "language": "python",
   "name": "python3"
  },
  "language_info": {
   "codemirror_mode": {
    "name": "ipython",
    "version": 3
   },
   "file_extension": ".py",
   "mimetype": "text/x-python",
   "name": "python",
   "nbconvert_exporter": "python",
   "pygments_lexer": "ipython3",
   "version": "3.7.7"
  }
 },
 "nbformat": 4,
 "nbformat_minor": 1
}
